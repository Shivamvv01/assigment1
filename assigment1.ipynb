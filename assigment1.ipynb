{
 "cells": [
  {
   "cell_type": "markdown",
   "id": "5831f86e-b139-4c69-a6fc-44261cc5c660",
   "metadata": {
    "tags": []
   },
   "source": [
    "Q1. Create one variable containing following type of data:"
   ]
  },
  {
   "cell_type": "code",
   "execution_count": 2,
   "id": "080f45f0-bc0b-4cd7-b103-e9bde7cba8ce",
   "metadata": {},
   "outputs": [
    {
     "name": "stdout",
     "output_type": "stream",
     "text": [
      "Hey dear!\n"
     ]
    }
   ],
   "source": [
    "#string\n",
    "string=\"Hey dear!\"\n",
    "\n",
    "#list\n",
    "list=[45,5,6,65]\n",
    "\n",
    "#float\n",
    "float=452.655\n",
    "\n",
    "#tuble\n",
    "tuple=(\"harsh\",\"om\",\"vikash\")\n",
    "\n"
   ]
  },
  {
   "cell_type": "markdown",
   "id": "b4940277-83dd-42d1-9582-52ec1585c4e9",
   "metadata": {},
   "source": [
    "Q2. Given are some following variables containing data:"
   ]
  },
  {
   "cell_type": "code",
   "execution_count": 2,
   "id": "498f966d-5aa8-4fb8-9ee9-4d7f3253f261",
   "metadata": {},
   "outputs": [
    {
     "ename": "SyntaxError",
     "evalue": "invalid character '‘' (U+2018) (2307947620.py, line 7)",
     "output_type": "error",
     "traceback": [
      "\u001b[0;36m  Cell \u001b[0;32mIn[2], line 7\u001b[0;36m\u001b[0m\n\u001b[0;31m    var2 = ‘[ DS , ML , Python]’\u001b[0m\n\u001b[0m           ^\u001b[0m\n\u001b[0;31mSyntaxError\u001b[0m\u001b[0;31m:\u001b[0m invalid character '‘' (U+2018)\n"
     ]
    }
   ],
   "source": [
    "#(i)var1=''\n",
    "var1=''\n",
    "print(var1)\n",
    "#var1 is string variable containing an empty space\n",
    "\n",
    "#(ii) var2 = ‘[ DS , ML , Python]’\n",
    "var2 = ‘[ DS , ML , Python]’\n",
    "print(var2)\n",
    "#invalid character\n",
    "\n",
    "#(iii) var3 = [ 'DS' , 'ML' , 'Python' ]\n",
    "var3 = [ 'DS' , 'ML' , 'Python' ]\n",
    "print(var3)\n",
    "\n",
    "#(iv) var4 = 1.\n",
    "var4=1\n",
    "print(var4)\n",
    "#this variable containing integer"
   ]
  },
  {
   "cell_type": "markdown",
   "id": "b5fc15eb-23a4-4e2d-a8b4-577c55ef0d27",
   "metadata": {},
   "source": [
    "Q3. Explain the use of the following operators using an example:"
   ]
  },
  {
   "cell_type": "code",
   "execution_count": 5,
   "id": "e0adfbb4-6aad-4a64-a26a-c8cd2aa4f71e",
   "metadata": {},
   "outputs": [
    {
     "name": "stdout",
     "output_type": "stream",
     "text": [
      "2.5\n",
      "2\n",
      "2\n",
      "10000\n"
     ]
    }
   ],
   "source": [
    "a=10\n",
    "b=4\n",
    "#(i) / it divides one number by another number:\n",
    "result=a/b\n",
    "print(result)\n",
    "\n",
    "# (ii) % the modulo operator calculates remainder:\n",
    "result=a%b\n",
    "print(result)\n",
    "\n",
    "# (iii) The \"//\" operator is known as the floor division operator or integer division operator. It performs division and returns the quotient, discarding the fractional part\n",
    "\n",
    "result=a//b\n",
    "print(result)\n",
    "\n",
    "# (iv) The \"**\" operator is used for exponentiation or raising a number to a power. It takes two operands: the base and the exponent\n",
    "result=a**b\n",
    "print(result)\n"
   ]
  },
  {
   "cell_type": "markdown",
   "id": "42189917-64e7-45f3-b51b-ee97dfb4afab",
   "metadata": {
    "tags": []
   },
   "source": [
    "Q4. Create a list of length 10 of your choice containing multiple types of data. Using for loop print the\n",
    "element and its data type."
   ]
  },
  {
   "cell_type": "code",
   "execution_count": null,
   "id": "9c996aa2-a2a7-401b-8ba0-2289152253be",
   "metadata": {},
   "outputs": [],
   "source": [
    "list=[4,9,6,4,'om','Harsh',4.45,(4,'dog',6),5+6j,True]\n",
    "for element in list:\n",
    "    print(f\"Element: {element} Data Type {type(element)}\")"
   ]
  },
  {
   "cell_type": "markdown",
   "id": "b13e4f4c-85b4-4364-9f91-a508b7af972a",
   "metadata": {
    "tags": []
   },
   "source": [
    "Q5. Using a while loop, verify if the number A is purely divisible by number B and if so then how many\n",
    "times it can be divisible."
   ]
  },
  {
   "cell_type": "code",
   "execution_count": 2,
   "id": "d1a22908-fd52-4d53-89dd-2d5e9a4b6678",
   "metadata": {
    "tags": []
   },
   "outputs": [
    {
     "name": "stdout",
     "output_type": "stream",
     "text": [
      "Can be divisible by 4 times\n"
     ]
    }
   ],
   "source": [
    "a=80\n",
    "b=2\n",
    "count=0\n",
    "while a%b==0:\n",
    "    a=a/b\n",
    "    count+=1\n",
    "print(f\"Can be divisible by {count} times\")"
   ]
  },
  {
   "cell_type": "markdown",
   "id": "389aa843-829c-4f4d-8873-3617a9d6b2fd",
   "metadata": {},
   "source": [
    "Q6. Create a list containing 25 int type data. Using for loop and if-else condition print if the element is\n",
    "divisible by 3 or not."
   ]
  },
  {
   "cell_type": "code",
   "execution_count": 51,
   "id": "98a0c6b0-eb12-48eb-a866-2e7e8387e762",
   "metadata": {},
   "outputs": [
    {
     "name": "stdout",
     "output_type": "stream",
     "text": [
      "the num  45  is divisible by 3 \n",
      "The num  55  is not divisible by 3 \n",
      "The num  5  is not divisible by 3 \n",
      "The num  515  is not divisible by 3 \n",
      "the num  4545  is divisible by 3 \n",
      "The num  5  is not divisible by 3 \n",
      "The num  1  is not divisible by 3 \n",
      "the num  567  is divisible by 3 \n",
      "The num  62  is not divisible by 3 \n",
      "the num  369  is divisible by 3 \n",
      "The num  56  is not divisible by 3 \n",
      "The num  5  is not divisible by 3 \n",
      "The num  565  is not divisible by 3 \n",
      "the num  6  is divisible by 3 \n",
      "The num  65  is not divisible by 3 \n",
      "The num  79  is not divisible by 3 \n",
      "the num  6  is divisible by 3 \n",
      "The num  5  is not divisible by 3 \n",
      "the num  63  is divisible by 3 \n",
      "the num  894  is divisible by 3 \n",
      "the num  78  is divisible by 3 \n",
      "The num  25  is not divisible by 3 \n",
      "the num  3  is divisible by 3 \n",
      "The num  26  is not divisible by 3 \n",
      "The num  2  is not divisible by 3 \n"
     ]
    }
   ],
   "source": [
    "l=[45,55,5,515,4545,5,1,567,62,369,56,5,565,6,65,79,6,5,63,894,78,25,3,26,2]\n",
    "for num in l:\n",
    "    if num%3==0:\n",
    "        print(f\"the num  {num}  is divisible by 3 \")\n",
    "    else:\n",
    "        print(f\"The num  {num }  is not divisible by 3 \")"
   ]
  },
  {
   "cell_type": "markdown",
   "id": "ef411f83-c399-4853-8636-134f12606d1e",
   "metadata": {},
   "source": [
    "Q7. What do you understand about mutable and immutable data types? Give examples for both showing\n",
    "this property."
   ]
  },
  {
   "cell_type": "code",
   "execution_count": 58,
   "id": "f23a0b06-03c1-4f5b-8b64-c928643dd715",
   "metadata": {},
   "outputs": [
    {
     "name": "stdout",
     "output_type": "stream",
     "text": [
      "John\n",
      "[5, 2, 3, 4]\n"
     ]
    }
   ],
   "source": [
    "# Ans: Immutable data types are those whose values cannot be changed after they are created. \n",
    "#Any operation on an immutable object creates a new object with the modified value, leaving the original object unchanged\n",
    "\n",
    "#immutable object\n",
    "name = \"John\"\n",
    "new_name = name.replace('John', 'Jane')\n",
    "print(name)\n",
    "#mutable object\n",
    "numbers = [1, 2, 3]\n",
    "numbers[0] = 5\n",
    "numbers.append(4)\n",
    "print(numbers)\n"
   ]
  }
 ],
 "metadata": {
  "kernelspec": {
   "display_name": "Python 3 (ipykernel)",
   "language": "python",
   "name": "python3"
  },
  "language_info": {
   "codemirror_mode": {
    "name": "ipython",
    "version": 3
   },
   "file_extension": ".py",
   "mimetype": "text/x-python",
   "name": "python",
   "nbconvert_exporter": "python",
   "pygments_lexer": "ipython3",
   "version": "3.10.8"
  }
 },
 "nbformat": 4,
 "nbformat_minor": 5
}
